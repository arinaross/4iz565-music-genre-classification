{
 "cells": [
  {
   "cell_type": "markdown",
   "id": "fda9492a-5e54-4ba3-99d9-57894aace340",
   "metadata": {},
   "source": [
    "# Music genre classification"
   ]
  },
  {
   "cell_type": "markdown",
   "id": "6ffb5147-8077-4711-93fb-27518411c888",
   "metadata": {
    "tags": []
   },
   "source": [
    "## Dataset description\n",
    "\n",
    "Where we got data\n",
    "\n",
    "### Features\n",
    "Which features? What values do they have? Categorical? Continuous?\n",
    "\n",
    "\n",
    "### Target\n",
    "Introduce, maybe include table with overview of which number is what genre. Maybe include extra csv with mapping.\n",
    "\n",
    "TODO"
   ]
  },
  {
   "cell_type": "code",
   "execution_count": null,
   "id": "f2417e7c-28ed-4fce-a79c-fdb551a3b133",
   "metadata": {},
   "outputs": [],
   "source": []
  },
  {
   "cell_type": "markdown",
   "id": "5b653bdc-a8c5-4967-acfe-a451431c2ae4",
   "metadata": {},
   "source": [
    "## EDA\n",
    "\n",
    "Histograms, scatterplot,...how variables correlate to target etc\n",
    "\n",
    "TODO"
   ]
  },
  {
   "cell_type": "markdown",
   "id": "2f4b4f64-f9c2-4ff3-8e29-5a521f694ebd",
   "metadata": {},
   "source": [
    "## Preprocessing\n",
    "\n",
    "TODO\n",
    "\n",
    "> Requirements on preprocessing\n",
    "> \n",
    "> Any two of the following operations are mandatory:\n",
    "> \n",
    "> -     remove rows based on subsetting\n",
    "> -     derive new columns\n",
    "> -     use aggregation operators\n",
    "> -     treat missing values\n"
   ]
  },
  {
   "cell_type": "markdown",
   "id": "0f84475c-8b6e-4c60-8d49-98c63b11b3cc",
   "metadata": {},
   "source": [
    "## Modeling\n",
    "\n",
    "TODO\n",
    "\n",
    "> Requirements\n",
    "> \n",
    "> Use any classifier. Choose one of the following two options:\n",
    "> \n",
    "> -     perform train/test split\n",
    "> -     use crossvalidation\n",
    "> \n",
    "> Also, evaluate and compare at least two algorithms of different types (e.g. logistic regression and random forest).\n",
    "> Any classifier from `sklearn`"
   ]
  },
  {
   "cell_type": "markdown",
   "id": "3d5bcd7f-5be4-4ff0-ada4-d2faff62c15e",
   "metadata": {
    "tags": []
   },
   "source": [
    "### Hyperparameter tuning\n",
    "\n",
    "TODO\n",
    "\n",
    "> Requirements on metaparameter tuning\n",
    "> \n",
    "> If the chosen classifier has any metaparameters that can be tuned, use one of the following methods:\n",
    "> \n",
    ">  -   try several configurations and describe the best result in the final report\n",
    ">  -   perform grid search or other similar automatic method\n",
    ">  -   once you have tuned metaparameters on a dedicated development (training) set, e.g. with GridSearchCV, you can retrain the model on the complete training data, as e.g. described here for Python: https://scikit-learn.org/stable/auto_examples/model_selection/plot_grid_search_digits.html and https://stackoverflow.com/questions/26962050/confused-with-repect-to-working-of-gridsearchcv\n",
    "> \n",
    "> Python recommendation: sklearn.model_selection.GridSearchCV"
   ]
  },
  {
   "cell_type": "markdown",
   "id": "2c351d19-eb16-40a4-a1ab-e60eb0ee6f84",
   "metadata": {},
   "source": [
    "## Results and evaluation\n",
    "\n",
    "TODO\n",
    "\n",
    "> Requirements on model evaluation\n",
    "> \n",
    "> -    report the accuracy on test set/crossvalidation\n",
    "> -    if you are performing binary classification task, involve also the ROC curve\n",
    "> -    make sure to use dedicated dataset for evaluation\n",
    "> \n",
    "> Python: use model_selection.cross_val_score, plot the roc curve using sklearn.metrics.roc_curve R: print model learned using the caret package, the roc curve can be plotted using the plotROC package."
   ]
  },
  {
   "cell_type": "code",
   "execution_count": null,
   "id": "f53e83e7-e64f-4b7b-b5d9-0e523187e179",
   "metadata": {},
   "outputs": [],
   "source": []
  }
 ],
 "metadata": {
  "kernelspec": {
   "display_name": "Python 3 (ipykernel)",
   "language": "python",
   "name": "python3"
  },
  "language_info": {
   "codemirror_mode": {
    "name": "ipython",
    "version": 3
   },
   "file_extension": ".py",
   "mimetype": "text/x-python",
   "name": "python",
   "nbconvert_exporter": "python",
   "pygments_lexer": "ipython3",
   "version": "3.10.6"
  }
 },
 "nbformat": 4,
 "nbformat_minor": 5
}
